{
  "nbformat": 4,
  "nbformat_minor": 0,
  "metadata": {
    "colab": {
      "provenance": []
    },
    "kernelspec": {
      "name": "python3",
      "display_name": "Python 3"
    },
    "language_info": {
      "name": "python"
    }
  },
  "cells": [
    {
      "cell_type": "markdown",
      "source": [
        "Assignment-12 Animation"
      ],
      "metadata": {
        "id": "_18QRbgfu4MB"
      }
    },
    {
      "cell_type": "markdown",
      "source": [
        "Q1) Explain the purpose of using the var() function in css. Also you have       \n",
        "  created two buttons with id named primaryBtn and secondaryBtn which should be   given background colors using the var() function. The color code for primaryColor is #00b7ff and secondaryColor is #6c757d."
      ],
      "metadata": {
        "id": "v-J-Uw0CvEnH"
      }
    },
    {
      "cell_type": "code",
      "source": [
        "html_content = \"\"\"\n",
        "<!DOCTYPE html>\n",
        "<html lang=\"en\">\n",
        "<head>\n",
        "    <meta charset=\"UTF-8\">\n",
        "    <meta name=\"viewport\" content=\"width=device-width, initial-scale=1.0\">\n",
        "    <title>The purpose of using Var() function</title>\n",
        "    <style>\n",
        "        *{\n",
        "            margin: 0;\n",
        "            padding: 0;\n",
        "        }\n",
        "        :root{\n",
        "            --primary-color:#00b7ff;\n",
        "            --secondary-color:#6c757d;\n",
        "            --text-color:#ffffff;\n",
        "        }\n",
        "        #primary{\n",
        "            background-color: var(--primary-color);\n",
        "            color:var(--text-color);\n",
        "            padding:10px 25px;\n",
        "            border: none;\n",
        "            border-radius: 5px;\n",
        "        }\n",
        "        #secondary{\n",
        "            background-color: var(--secondary-color);\n",
        "            color:var(--text-color);\n",
        "            padding:10px 25px;\n",
        "            border: none;\n",
        "            border-radius: 5px;\n",
        "        }\n",
        "    </style>\n",
        "\n",
        "\n",
        "</head>\n",
        "<body>\n",
        "    <button id=\"primary\">Primary Button</button>\n",
        "    <button id=secondary>Secondary Button</button>\n",
        "</body>\n",
        "</html>\n",
        "\"\"\"\n",
        "\n",
        "# Display the HTML content\n",
        "display(html_content)"
      ],
      "metadata": {
        "colab": {
          "base_uri": "https://localhost:8080/",
          "height": 128
        },
        "id": "wx_KJNlAvYQo",
        "outputId": "ea053bc0-7bae-4a00-ef03-be2dc240b136"
      },
      "execution_count": 3,
      "outputs": [
        {
          "output_type": "display_data",
          "data": {
            "text/plain": [
              "'\\n<!DOCTYPE html>\\n<html lang=\"en\">\\n<head>\\n    <meta charset=\"UTF-8\">\\n    <meta name=\"viewport\" content=\"width=device-width, initial-scale=1.0\">\\n    <title>The purpose of using Var() function</title>\\n    <style>\\n        *{\\n            margin: 0;\\n            padding: 0;\\n        }\\n        :root{\\n            --primary-color:#00b7ff;\\n            --secondary-color:#6c757d;\\n            --text-color:#ffffff;\\n        }\\n        #primary{\\n            background-color: var(--primary-color);\\n            color:var(--text-color);\\n            padding:10px 25px;\\n            border: none;\\n            border-radius: 5px;\\n        }\\n        #secondary{\\n            background-color: var(--secondary-color);\\n            color:var(--text-color);\\n            padding:10px 25px;\\n            border: none;\\n            border-radius: 5px;\\n        }\\n    </style>\\n    \\n    \\n</head>\\n<body>\\n    <button id=\"primary\">Primary Button</button>\\n    <button id=secondary>Secondary Button</button>\\n</body>\\n</html>\\n'"
            ],
            "application/vnd.google.colaboratory.intrinsic+json": {
              "type": "string"
            }
          },
          "metadata": {}
        }
      ]
    },
    {
      "cell_type": "markdown",
      "source": [
        "Q2) Create a 3D cube using the transform property of CSS."
      ],
      "metadata": {
        "id": "A94wkOXDwLML"
      }
    },
    {
      "cell_type": "code",
      "source": [
        "html_content = \"\"\"\n",
        "<!DOCTYPE html>\n",
        "<html lang=\"en\">\n",
        "<head>\n",
        "    <meta charset=\"UTF-8\">\n",
        "    <meta name=\"viewport\" content=\"width=device-width, initial-scale=1.0\">\n",
        "    <title>Create a 3D cube using transform.</title>\n",
        "    <style>\n",
        "        *{\n",
        "            margin: 0;\n",
        "            padding: 0;\n",
        "        }\n",
        "        :root{\n",
        "            --primary-color:rgba(0,150,255,0.8);\n",
        "            --text-color:white;\n",
        "        }\n",
        "        body{\n",
        "            display: flex;\n",
        "            justify-content: center;\n",
        "            align-items: center;\n",
        "            background: #111111;\n",
        "            height: 100vh;\n",
        "            perspective:800px;\n",
        "        }\n",
        "        #cube{\n",
        "            height: 200px;\n",
        "            width:200px;\n",
        "            position: relative;\n",
        "            transform-style: preserve-3d;\n",
        "            animation:rotateCube 10s linear 1.2s infinite;\n",
        "\n",
        "\n",
        "        }\n",
        "        .face{\n",
        "            position: absolute;\n",
        "            height: 200px;\n",
        "            width: 200px;\n",
        "            border:2px solid var(--text-color);\n",
        "            background:var(--primary-color);\n",
        "            font-size: 40px;\n",
        "            text-align: center;\n",
        "            line-height: 200px;\n",
        "            color:var(--text-color);\n",
        "\n",
        "        }\n",
        "       #front{\n",
        "        transform: rotateY(0deg) translateZ(100px);\n",
        "       }\n",
        "       #right{\n",
        "        transform: rotateY(-90deg) translateZ(100px);\n",
        "       }\n",
        "       #left{\n",
        "        transform:rotateY(90deg) translateZ(100px)\n",
        "       }\n",
        "       #top{\n",
        "        transform:rotateX(90deg) translateZ(100px);\n",
        "       }\n",
        "       #bottom{\n",
        "        transform:rotateX(-90deg) translateZ(100px);\n",
        "\n",
        "       }\n",
        "        #back{\n",
        "            transform: rotateY( 180deg ) translateZ( 100px );\n",
        "        }\n",
        "\n",
        "    @keyframes rotateCube{\n",
        "        0%, 100%{\n",
        "            transform: rotateX(0deg) rotateY(0deg);\n",
        "        }\n",
        "        50%{\n",
        "            transform:rotateX(360deg) rotateY(360deg);\n",
        "        }\n",
        "    }\n",
        "    </style>\n",
        "</head>\n",
        "<body>\n",
        "    <div id=\"cube\">\n",
        "    <div class=\"face\" id=\"front\">\n",
        "    front\n",
        "    </div>\n",
        "    <div class=\"face\" id=\"right\">\n",
        "     right\n",
        "    </div>\n",
        "    <div class=\"face\" id=\"left\">\n",
        "        left\n",
        "    </div>\n",
        "    <div class=\"face\" id=\"top\">\n",
        "       top\n",
        "    </div>\n",
        "    <div class=\"face\" id=\"bottom\">\n",
        "        bottom\n",
        "    </div>\n",
        "    <div class=\"face\" id=\"back\">\n",
        "        back\n",
        "    </div>\n",
        "    </div>\n",
        "\n",
        "</body>\n",
        "</html>\n",
        "\"\"\"\n",
        "\n",
        "# Display the HTML content\n",
        "display(html_content)"
      ],
      "metadata": {
        "colab": {
          "base_uri": "https://localhost:8080/",
          "height": 128
        },
        "id": "x25MoCWNwObI",
        "outputId": "4a3faf30-2ce8-4c91-a136-b70362457ccf"
      },
      "execution_count": 4,
      "outputs": [
        {
          "output_type": "display_data",
          "data": {
            "text/plain": [
              "'\\n<!DOCTYPE html>\\n<html lang=\"en\">\\n<head>\\n    <meta charset=\"UTF-8\">\\n    <meta name=\"viewport\" content=\"width=device-width, initial-scale=1.0\">\\n    <title>Create a 3D cube using transform.</title>\\n    <style>\\n        *{\\n            margin: 0;\\n            padding: 0;\\n        }\\n        :root{\\n            --primary-color:rgba(0,150,255,0.8);\\n            --text-color:white;\\n        }\\n        body{\\n            display: flex;\\n            justify-content: center;\\n            align-items: center;\\n            background: #111111;\\n            height: 100vh;\\n            perspective:800px;\\n        }\\n        #cube{\\n            height: 200px;\\n            width:200px;\\n            position: relative;\\n            transform-style: preserve-3d;\\n            animation:rotateCube 10s linear 1.2s infinite;\\n\\n            \\n        }\\n        .face{\\n            position: absolute;\\n            height: 200px;\\n            width: 200px;\\n            border:2px solid var(--text-color);\\n            background:var(--primary-color);\\n            font-size: 40px;\\n            text-align: center;\\n            line-height: 200px;\\n            color:var(--text-color);\\n\\n        }\\n       #front{\\n        transform: rotateY(0deg) translateZ(100px);\\n       }\\n       #right{\\n        transform: rotateY(-90deg) translateZ(100px);\\n       }\\n       #left{\\n        transform:rotateY(90deg) translateZ(100px)\\n       }\\n       #top{\\n        transform:rotateX(90deg) translateZ(100px);\\n       }\\n       #bottom{\\n        transform:rotateX(-90deg) translateZ(100px);\\n\\n       }\\n        #back{\\n            transform: rotateY( 180deg ) translateZ( 100px );\\n        }\\n   \\n    @keyframes rotateCube{\\n        0%, 100%{\\n            transform: rotateX(0deg) rotateY(0deg);\\n        }\\n        50%{\\n            transform:rotateX(360deg) rotateY(360deg);\\n        }\\n    }\\n    </style>\\n</head>\\n<body>\\n    <div id=\"cube\">\\n    <div class=\"face\" id=\"front\">\\n    front\\n    </div>\\n    <div class=\"face\" id=\"right\">\\n     right\\n    </div>\\n    <div class=\"face\" id=\"left\">\\n        left\\n    </div>\\n    <div class=\"face\" id=\"top\">\\n       top\\n    </div>\\n    <div class=\"face\" id=\"bottom\">\\n        bottom\\n    </div>\\n    <div class=\"face\" id=\"back\">\\n        back\\n    </div>\\n    </div>\\n    \\n</body>\\n</html>\\n'"
            ],
            "application/vnd.google.colaboratory.intrinsic+json": {
              "type": "string"
            }
          },
          "metadata": {}
        }
      ]
    },
    {
      "cell_type": "markdown",
      "source": [
        "Q3) Create a simple circular loader which will rotate continuously to look like a loading screen on a website"
      ],
      "metadata": {
        "id": "XHHqjlkpwLKB"
      }
    },
    {
      "cell_type": "code",
      "source": [
        "html_content = \"\"\"\n",
        "\n",
        "<!DOCTYPE html>\n",
        "<html lang=\"en\">\n",
        "<head>\n",
        "    <meta charset=\"UTF-8\">\n",
        "    <meta name=\"viewport\" content=\"width=device-width, initial-scale=1.0\">\n",
        "    <title>Simple Circular Loader</title>\n",
        "    <style>\n",
        "        body{\n",
        "             display: flex;\n",
        "            justify-content: center;\n",
        "            align-items: center;\n",
        "            height: 100vh;\n",
        "        }\n",
        "        .loader{\n",
        "\n",
        "            height: 50px;\n",
        "            width: 50px;\n",
        "           border:8px solid #f3f3f3;\n",
        "          border-top:8px solid #3498db;\n",
        "          border-radius: 50%;\n",
        "          animation:circular 2s linear infinite;\n",
        "        }\n",
        "        @keyframes circular{\n",
        "            0%{\n",
        "                transform: rotate(0deg);\n",
        "            }\n",
        "            100%{\n",
        "                transform: rotate(360deg);\n",
        "            }\n",
        "        }\n",
        "    </style>\n",
        "</head>\n",
        "<body>\n",
        "\n",
        "    <div class=\"loader\">\n",
        "\n",
        "    </div>\n",
        "</body>\n",
        "</html>\n",
        "\"\"\"\n",
        "\n",
        "# Display the HTML content\n",
        "display(html_content)"
      ],
      "metadata": {
        "colab": {
          "base_uri": "https://localhost:8080/",
          "height": 110
        },
        "id": "iUBXwXKGwqCW",
        "outputId": "4c786d1a-ed57-433b-8dc1-7a20d620ed4a"
      },
      "execution_count": 6,
      "outputs": [
        {
          "output_type": "display_data",
          "data": {
            "text/plain": [
              "'\\n\\n<!DOCTYPE html>\\n<html lang=\"en\">\\n<head>\\n    <meta charset=\"UTF-8\">\\n    <meta name=\"viewport\" content=\"width=device-width, initial-scale=1.0\">\\n    <title>Simple Circular Loader</title>\\n    <style>\\n        body{\\n             display: flex;\\n            justify-content: center;\\n            align-items: center;\\n            height: 100vh;\\n        }\\n        .loader{\\n           \\n            height: 50px;\\n            width: 50px;\\n           border:8px solid #f3f3f3;\\n          border-top:8px solid #3498db;\\n          border-radius: 50%;\\n          animation:circular 2s linear infinite;\\n        }\\n        @keyframes circular{\\n            0%{\\n                transform: rotate(0deg);\\n            }\\n            100%{\\n                transform: rotate(360deg);\\n            }\\n        }\\n    </style>\\n</head>\\n<body>\\n    \\n    <div class=\"loader\">\\n\\n    </div>\\n</body>\\n</html>\\n'"
            ],
            "application/vnd.google.colaboratory.intrinsic+json": {
              "type": "string"
            }
          },
          "metadata": {}
        }
      ]
    },
    {
      "cell_type": "code",
      "execution_count": null,
      "metadata": {
        "id": "c5FfskrOuyuC"
      },
      "outputs": [],
      "source": []
    }
  ]
}